{
 "cells": [
  {
   "cell_type": "code",
   "execution_count": null,
   "metadata": {
    "executionInfo": {
     "elapsed": 6818,
     "status": "ok",
     "timestamp": 1754500868150,
     "user": {
      "displayName": "FARIZ ARVIANTO",
      "userId": "12667506103040323466"
     },
     "user_tz": -420
    },
    "id": "wFbbqr_h7K5W"
   },
   "outputs": [],
   "source": [
    "import pandas as pd\n",
    "import numpy as np\n",
    "from sklearn.model_selection import train_test_split\n",
    "from sklearn.preprocessing import StandardScaler, LabelEncoder\n",
    "from sklearn.metrics import accuracy_score, classification_report\n",
    "import seaborn as sns\n",
    "import matplotlib.pyplot as plt\n",
    "from sklearn.svm import SVC\n",
    "from qiskit_aer import AerSimulator\n",
    "from qiskit_aer.primitives import SamplerV2 as AerSampler   \n",
    "from qiskit.circuit.library import ZZFeatureMap\n",
    "from qiskit_machine_learning.kernels import FidelityQuantumKernel\n",
    "from qiskit_machine_learning.state_fidelities import ComputeUncompute\n",
    "from qiskit_machine_learning.algorithms import QSVC\n"
   ]
  },
  {
   "cell_type": "code",
   "execution_count": 2,
   "metadata": {
    "colab": {
     "base_uri": "https://localhost:8080/"
    },
    "executionInfo": {
     "elapsed": 502,
     "status": "ok",
     "timestamp": 1754500868643,
     "user": {
      "displayName": "FARIZ ARVIANTO",
      "userId": "12667506103040323466"
     },
     "user_tz": -420
    },
    "id": "MNbD1J6qPopl",
    "outputId": "a7c54cdb-3e86-4efb-e852-4b7bae010ef1"
   },
   "outputs": [
    {
     "name": "stdout",
     "output_type": "stream",
     "text": [
      "<class 'pandas.core.frame.DataFrame'>\n",
      "RangeIndex: 100000 entries, 0 to 99999\n",
      "Data columns (total 6 columns):\n",
      " #   Column             Non-Null Count   Dtype  \n",
      "---  ------             --------------   -----  \n",
      " 0   Jenis Kelamin      100000 non-null  object \n",
      " 1   Umur (bulan)       100000 non-null  int64  \n",
      " 2   Tinggi Badan (cm)  100000 non-null  float64\n",
      " 3   Berat Badan (kg)   100000 non-null  float64\n",
      " 4   Stunting           100000 non-null  object \n",
      " 5   Wasting            100000 non-null  object \n",
      "dtypes: float64(2), int64(1), object(3)\n",
      "memory usage: 4.6+ MB\n"
     ]
    }
   ],
   "source": [
    "df = pd.read_csv('stunting.csv')\n",
    "df.info()"
   ]
  },
  {
   "cell_type": "code",
   "execution_count": 3,
   "metadata": {
    "executionInfo": {
     "elapsed": 338,
     "status": "ok",
     "timestamp": 1754500868983,
     "user": {
      "displayName": "FARIZ ARVIANTO",
      "userId": "12667506103040323466"
     },
     "user_tz": -420
    },
    "id": "XXVBgN_t-I39"
   },
   "outputs": [],
   "source": [
    "df = df.drop_duplicates()"
   ]
  },
  {
   "cell_type": "code",
   "execution_count": 4,
   "metadata": {
    "colab": {
     "base_uri": "https://localhost:8080/"
    },
    "executionInfo": {
     "elapsed": 83,
     "status": "ok",
     "timestamp": 1754500868997,
     "user": {
      "displayName": "FARIZ ARVIANTO",
      "userId": "12667506103040323466"
     },
     "user_tz": -420
    },
    "id": "lJrDVOo--9Jd",
    "outputId": "c32c5bb9-749a-433c-f122-3e3796f6660d"
   },
   "outputs": [
    {
     "name": "stdout",
     "output_type": "stream",
     "text": [
      "      Jenis Kelamin  Umur (bulan)  Tinggi Badan (cm)  Berat Badan (kg)  \\\n",
      "0         Laki-laki            19               91.6              13.3   \n",
      "1         Laki-laki            20               77.7               8.5   \n",
      "2         Laki-laki            10               79.0              10.3   \n",
      "3         Perempuan             2               50.3               8.3   \n",
      "4         Perempuan             5               56.4              10.9   \n",
      "...             ...           ...                ...               ...   \n",
      "99993     Laki-laki            12               83.4              11.8   \n",
      "99994     Laki-laki            11               81.1               8.8   \n",
      "99995     Laki-laki            11               75.3               7.3   \n",
      "99996     Laki-laki            21               93.7              14.8   \n",
      "99997     Perempuan            18               82.9              12.6   \n",
      "\n",
      "               Stunting             Wasting  \n",
      "0                  Tall  Risk of Overweight  \n",
      "1               Stunted         Underweight  \n",
      "2                Normal  Risk of Overweight  \n",
      "3      Severely Stunted  Risk of Overweight  \n",
      "4      Severely Stunted  Risk of Overweight  \n",
      "...                 ...                 ...  \n",
      "99993              Tall  Risk of Overweight  \n",
      "99994            Normal       Normal weight  \n",
      "99995            Normal         Underweight  \n",
      "99996            Normal  Risk of Overweight  \n",
      "99997            Normal  Risk of Overweight  \n",
      "\n",
      "[92692 rows x 6 columns]\n"
     ]
    }
   ],
   "source": [
    "print(df)"
   ]
  },
  {
   "cell_type": "code",
   "execution_count": 5,
   "metadata": {
    "executionInfo": {
     "elapsed": 28,
     "status": "ok",
     "timestamp": 1754500868999,
     "user": {
      "displayName": "FARIZ ARVIANTO",
      "userId": "12667506103040323466"
     },
     "user_tz": -420
    },
    "id": "SaGW9rB8-DJa"
   },
   "outputs": [],
   "source": [
    "df = df.drop('Wasting', axis=1)"
   ]
  },
  {
   "cell_type": "code",
   "execution_count": 6,
   "metadata": {
    "colab": {
     "base_uri": "https://localhost:8080/"
    },
    "executionInfo": {
     "elapsed": 29,
     "status": "ok",
     "timestamp": 1754500869010,
     "user": {
      "displayName": "FARIZ ARVIANTO",
      "userId": "12667506103040323466"
     },
     "user_tz": -420
    },
    "id": "LvQyyntG_LPo",
    "outputId": "1ea3f4a7-9332-4063-cf66-c499b5ec6ab6"
   },
   "outputs": [
    {
     "name": "stdout",
     "output_type": "stream",
     "text": [
      "<class 'pandas.core.frame.DataFrame'>\n",
      "Index: 92692 entries, 0 to 99997\n",
      "Data columns (total 5 columns):\n",
      " #   Column             Non-Null Count  Dtype  \n",
      "---  ------             --------------  -----  \n",
      " 0   Jenis Kelamin      92692 non-null  object \n",
      " 1   Umur (bulan)       92692 non-null  int64  \n",
      " 2   Tinggi Badan (cm)  92692 non-null  float64\n",
      " 3   Berat Badan (kg)   92692 non-null  float64\n",
      " 4   Stunting           92692 non-null  object \n",
      "dtypes: float64(2), int64(1), object(2)\n",
      "memory usage: 4.2+ MB\n"
     ]
    }
   ],
   "source": [
    "df.info()"
   ]
  },
  {
   "cell_type": "code",
   "execution_count": 7,
   "metadata": {
    "executionInfo": {
     "elapsed": 6,
     "status": "ok",
     "timestamp": 1754500869019,
     "user": {
      "displayName": "FARIZ ARVIANTO",
      "userId": "12667506103040323466"
     },
     "user_tz": -420
    },
    "id": "1mOYrLrm8_2a"
   },
   "outputs": [],
   "source": [
    "label_encoder = LabelEncoder()\n",
    "\n",
    "# Loop through each column and apply LabelEncoder to object columns\n",
    "for column in df.select_dtypes(include=['object']).columns:\n",
    "    df[column] = label_encoder.fit_transform(df[column])"
   ]
  },
  {
   "cell_type": "code",
   "execution_count": 8,
   "metadata": {
    "colab": {
     "base_uri": "https://localhost:8080/",
     "height": 658
    },
    "executionInfo": {
     "elapsed": 942,
     "status": "ok",
     "timestamp": 1754500869964,
     "user": {
      "displayName": "FARIZ ARVIANTO",
      "userId": "12667506103040323466"
     },
     "user_tz": -420
    },
    "id": "lhB6l3HIV-4H",
    "outputId": "0cee6dd9-3572-458a-eab1-04843a4b870e"
   },
   "outputs": [
    {
     "data": {
      "image/png": "[encoded data removed]",
      "text/plain": [
       "<Figure size 800x600 with 2 Axes>"
      ]
     },
     "metadata": {},
     "output_type": "display_data"
    }
   ],
   "source": [
    "correlation_matrix = df.corr()\n",
    "\n",
    "# Set the figure size\n",
    "plt.figure(figsize=(8, 6))\n",
    "\n",
    "# Create the heatmap\n",
    "sns.heatmap(correlation_matrix, annot=True, cmap='coolwarm', fmt='.2f', linewidths=0.5)\n",
    "\n",
    "# Add title\n",
    "plt.title('Correlation Matrix')\n",
    "\n",
    "# Show the plot\n",
    "plt.show()"
   ]
  },
  {
   "cell_type": "code",
   "execution_count": null,
   "metadata": {},
   "outputs": [],
   "source": [
    "from sklearn.utils import resample\n",
    "\n",
    "target_per_class = 250   # karena 1,000 ÷ 4 kelas\n",
    "\n",
    "frames = []\n",
    "for label, subset in df.groupby('Stunting'):\n",
    "    if len(subset) >= target_per_class:\n",
    "        frames.append(subset.sample(n=target_per_class, random_state=42))\n",
    "    else:\n",
    "        frames.append(\n",
    "            resample(subset, replace=True, n_samples=target_per_class, random_state=42)\n",
    "        )\n",
    "\n",
    "df_reduced = pd.concat(frames).sample(frac=1, random_state=42).reset_index(drop=True)\n",
    "print(df_reduced['Stunting'].value_counts()) \n"
   ]
  },
  {
   "cell_type": "code",
   "execution_count": 10,
   "metadata": {
    "executionInfo": {
     "elapsed": 17,
     "status": "ok",
     "timestamp": 1754500870024,
     "user": {
      "displayName": "FARIZ ARVIANTO",
      "userId": "12667506103040323466"
     },
     "user_tz": -420
    },
    "id": "Cerbq2bS_BL2"
   },
   "outputs": [],
   "source": [
    "X = df_reduced.drop('Stunting', axis=1)\n",
    "y = df_reduced['Stunting']"
   ]
  },
  {
   "cell_type": "code",
   "execution_count": 11,
   "metadata": {
    "executionInfo": {
     "elapsed": 6,
     "status": "ok",
     "timestamp": 1754500870061,
     "user": {
      "displayName": "FARIZ ARVIANTO",
      "userId": "12667506103040323466"
     },
     "user_tz": -420
    },
    "id": "1rzA71d2Eh3S"
   },
   "outputs": [],
   "source": [
    "X_train, X_test, y_train, y_test = train_test_split(X, y, test_size=0.2, random_state=42)"
   ]
  },
  {
   "cell_type": "code",
   "execution_count": null,
   "metadata": {
    "executionInfo": {
     "elapsed": 7,
     "status": "ok",
     "timestamp": 1754500870081,
     "user": {
      "displayName": "FARIZ ARVIANTO",
      "userId": "12667506103040323466"
     },
     "user_tz": -420
    },
    "id": "itg13JMqXwiO"
   },
   "outputs": [],
   "source": [
    "scaler = StandardScaler()\n",
    "X_train_scaled = scaler.fit_transform(X_train)\n",
    "X_test_scaled = scaler.transform(X_test)"
   ]
  },
  {
   "cell_type": "code",
   "execution_count": null,
   "metadata": {
    "id": "G1zc17--cScT"
   },
   "outputs": [],
   "source": [
    "from sklearn.decomposition import PCA\n",
    "from sklearn.svm import SVC\n",
    "from qiskit.circuit.library import ZZFeatureMap\n",
    "from qiskit.primitives import StatevectorSampler as Sampler\n",
    "from qiskit_machine_learning.state_fidelities import ComputeUncompute\n",
    "from qiskit_machine_learning.kernels import FidelityQuantumKernel\n",
    "\n",
    "# --- 1. Reduksi dimensi ---\n",
    "pca = PCA(n_components=0.95, svd_solver='full')   # jaga ≥95 % varians\n",
    "X_train_red = pca.fit_transform(X_train_scaled)\n",
    "X_test_red  = pca.transform(X_test_scaled)\n",
    "num_qubits  = X_train_red.shape[1]\n",
    "\n",
    "# --- 2. Quantum kernel ---\n",
    "feature_map = ZZFeatureMap(feature_dimension=num_qubits, reps=1, entanglement=\"linear\")\n",
    "sampler  = Sampler()\n",
    "fidelity = ComputeUncompute(sampler=sampler)\n",
    "q_kernel = FidelityQuantumKernel(fidelity=fidelity, feature_map=feature_map)\n",
    "\n",
    "# --- 3. SVM training ---\n",
    "model = SVC(kernel=q_kernel.evaluate)\n",
    "model.fit(X_train_red, y_train)\n",
    "y_pred   = model.predict(X_test_scaled)\n",
    "acc = accuracy_score(y_test, y_pred)\n",
    "print(f\"Akurasi QSVM  : {acc:.3f}\")\n",
    "\n",
    "# Classification report (precision, recall, f1, support)\n",
    "print(\"\\n=== Classification Report ===\")\n",
    "print(classification_report(y_test, y_pred))\n"
   ]
  }
 ],
 "metadata": {
  "accelerator": "GPU",
  "colab": {
   "authorship_tag": "ABX9TyPga2gtCmUm2mZFCvuWOYrH",
   "gpuType": "T4",
   "provenance": []
  },
  "kernelspec": {
   "display_name": "gemastik",
   "language": "python",
   "name": "python3"
  },
  "language_info": {
   "codemirror_mode": {
    "name": "ipython",
    "version": 3
   },
   "file_extension": ".py",
   "mimetype": "text/x-python",
   "name": "python",
   "nbconvert_exporter": "python",
   "pygments_lexer": "ipython3",
   "version": "3.9.23"
  }
 },
 "nbformat": 4,
 "nbformat_minor": 0
}
