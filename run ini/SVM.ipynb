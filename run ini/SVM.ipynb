{
 "cells": [
  {
   "cell_type": "code",
   "execution_count": 1,
   "metadata": {
    "executionInfo": {
     "elapsed": 6818,
     "status": "ok",
     "timestamp": 1754500868150,
     "user": {
      "displayName": "FARIZ ARVIANTO",
      "userId": "12667506103040323466"
     },
     "user_tz": -420
    },
    "id": "wFbbqr_h7K5W"
   },
   "outputs": [],
   "source": [
    "import pandas as pd\n",
    "import numpy as np\n",
    "from sklearn.model_selection import train_test_split\n",
    "from sklearn.preprocessing import StandardScaler, LabelEncoder\n",
    "from sklearn.metrics import accuracy_score, confusion_matrix, classification_report\n",
    "import seaborn as sns\n",
    "import matplotlib.pyplot as plt\n",
    "from sklearn.svm import SVC\n",
    "from qiskit_aer import AerSimulator\n",
    "from qiskit_aer.primitives import SamplerV2 as AerSampler   \n",
    "from qiskit.circuit.library import ZZFeatureMap\n",
    "from qiskit_machine_learning.kernels import FidelityQuantumKernel\n",
    "from qiskit_machine_learning.state_fidelities import ComputeUncompute\n",
    "from qiskit_machine_learning.algorithms import QSVC\n"
   ]
  },
  {
   "cell_type": "code",
   "execution_count": 2,
   "metadata": {
    "colab": {
     "base_uri": "https://localhost:8080/"
    },
    "executionInfo": {
     "elapsed": 502,
     "status": "ok",
     "timestamp": 1754500868643,
     "user": {
      "displayName": "FARIZ ARVIANTO",
      "userId": "12667506103040323466"
     },
     "user_tz": -420
    },
    "id": "MNbD1J6qPopl",
    "outputId": "a7c54cdb-3e86-4efb-e852-4b7bae010ef1"
   },
   "outputs": [
    {
     "name": "stdout",
     "output_type": "stream",
     "text": [
      "<class 'pandas.core.frame.DataFrame'>\n",
      "RangeIndex: 10000 entries, 0 to 9999\n",
      "Data columns (total 5 columns):\n",
      " #   Column             Non-Null Count  Dtype  \n",
      "---  ------             --------------  -----  \n",
      " 0   Jenis Kelamin      10000 non-null  int64  \n",
      " 1   Umur (bulan)       10000 non-null  int64  \n",
      " 2   Tinggi Badan (cm)  10000 non-null  float64\n",
      " 3   Berat Badan (kg)   10000 non-null  float64\n",
      " 4   Stunting           10000 non-null  int64  \n",
      "dtypes: float64(2), int64(3)\n",
      "memory usage: 390.8 KB\n"
     ]
    }
   ],
   "source": [
    "df = pd.read_csv('../stunting_dataset_10k.csv')\n",
    "df.info()"
   ]
  },
  {
   "cell_type": "code",
   "execution_count": 3,
   "metadata": {
    "executionInfo": {
     "elapsed": 17,
     "status": "ok",
     "timestamp": 1754500870024,
     "user": {
      "displayName": "FARIZ ARVIANTO",
      "userId": "12667506103040323466"
     },
     "user_tz": -420
    },
    "id": "Cerbq2bS_BL2"
   },
   "outputs": [],
   "source": [
    "X = df.drop('Stunting', axis=1)\n",
    "y = df['Stunting']"
   ]
  },
  {
   "cell_type": "code",
   "execution_count": 4,
   "metadata": {
    "executionInfo": {
     "elapsed": 6,
     "status": "ok",
     "timestamp": 1754500870061,
     "user": {
      "displayName": "FARIZ ARVIANTO",
      "userId": "12667506103040323466"
     },
     "user_tz": -420
    },
    "id": "1rzA71d2Eh3S"
   },
   "outputs": [],
   "source": [
    "X_train, X_test, y_train, y_test = train_test_split(X, y, test_size=0.2, random_state=42)"
   ]
  },
  {
   "cell_type": "code",
   "execution_count": 5,
   "metadata": {
    "executionInfo": {
     "elapsed": 7,
     "status": "ok",
     "timestamp": 1754500870081,
     "user": {
      "displayName": "FARIZ ARVIANTO",
      "userId": "12667506103040323466"
     },
     "user_tz": -420
    },
    "id": "itg13JMqXwiO"
   },
   "outputs": [],
   "source": [
    "scaler = StandardScaler()\n",
    "X_train_scaled = scaler.fit_transform(X_train)\n",
    "X_test_scaled = scaler.transform(X_test)"
   ]
  },
  {
   "cell_type": "code",
   "execution_count": 6,
   "metadata": {
    "colab": {
     "base_uri": "https://localhost:8080/"
    },
    "executionInfo": {
     "elapsed": 447422,
     "status": "ok",
     "timestamp": 1754501317546,
     "user": {
      "displayName": "FARIZ ARVIANTO",
      "userId": "12667506103040323466"
     },
     "user_tz": -420
    },
    "id": "u4HPPVRtDbIc",
    "outputId": "59f421ef-c61c-4fe5-a7c0-1767b549ba11"
   },
   "outputs": [
    {
     "name": "stdout",
     "output_type": "stream",
     "text": [
      "train\n",
      "Classification Report for train Support Vector Classification (SVC) with RBF Kernel:\n",
      "              precision    recall  f1-score   support\n",
      "\n",
      "           0       1.00      0.77      0.87      1993\n",
      "           1       0.80      1.00      0.89      1994\n",
      "           2       0.89      0.77      0.83      2020\n",
      "           3       0.89      1.00      0.94      1993\n",
      "\n",
      "    accuracy                           0.89      8000\n",
      "   macro avg       0.90      0.89      0.88      8000\n",
      "weighted avg       0.90      0.89      0.88      8000\n",
      "\n",
      "test\n",
      "Classification Report for test Support Vector Classification (SVC) with RBF Kernel:\n",
      "              precision    recall  f1-score   support\n",
      "\n",
      "           0       1.00      0.78      0.88       507\n",
      "           1       0.81      1.00      0.90       506\n",
      "           2       0.89      0.76      0.82       480\n",
      "           3       0.89      1.00      0.94       507\n",
      "\n",
      "    accuracy                           0.89      2000\n",
      "   macro avg       0.90      0.89      0.88      2000\n",
      "weighted avg       0.90      0.89      0.89      2000\n",
      "\n"
     ]
    }
   ],
   "source": [
    "# Initialize SVC with RBF kernel\n",
    "svc_rbf = SVC(kernel='rbf', C=1.0, probability=True)\n",
    "\n",
    "# Fit the model\n",
    "svc_rbf.fit(X_train_scaled, y_train)\n",
    "\n",
    "# Predict the labels\n",
    "y_pred_svc_test = svc_rbf.predict(X_test_scaled)\n",
    "y_pred_svc_train = svc_rbf.predict(X_train_scaled)\n",
    "\n",
    "# Print classification report\n",
    "print('train')\n",
    "print(\"Classification Report for train Support Vector Classification (SVC) with RBF Kernel:\")\n",
    "print(classification_report(y_train, y_pred_svc_train))\n",
    "print('test')\n",
    "print(\"Classification Report for test Support Vector Classification (SVC) with RBF Kernel:\")\n",
    "print(classification_report(y_test, y_pred_svc_test))\n"
   ]
  },
  {
   "cell_type": "code",
   "execution_count": 7,
   "metadata": {
    "id": "G1zc17--cScT"
   },
   "outputs": [
    {
     "name": "stdout",
     "output_type": "stream",
     "text": [
      "train\n",
      "Classification Report for train Support Vector Classification (SVC) with LINEAR Kernel:\n",
      "              precision    recall  f1-score   support\n",
      "\n",
      "           0       0.86      0.68      0.76      1993\n",
      "           1       0.71      0.73      0.72      1994\n",
      "           2       0.68      0.75      0.71      2020\n",
      "           3       0.83      0.90      0.87      1993\n",
      "\n",
      "    accuracy                           0.77      8000\n",
      "   macro avg       0.77      0.77      0.77      8000\n",
      "weighted avg       0.77      0.77      0.77      8000\n",
      "\n",
      "test\n",
      "Classification Report for test Support Vector Classification (SVC) with LINEAR Kernel:\n",
      "              precision    recall  f1-score   support\n",
      "\n",
      "           0       0.83      0.68      0.75       507\n",
      "           1       0.71      0.69      0.70       506\n",
      "           2       0.65      0.75      0.69       480\n",
      "           3       0.82      0.87      0.85       507\n",
      "\n",
      "    accuracy                           0.75      2000\n",
      "   macro avg       0.75      0.75      0.75      2000\n",
      "weighted avg       0.76      0.75      0.75      2000\n",
      "\n"
     ]
    }
   ],
   "source": [
    "from sklearn.svm import SVC\n",
    "from sklearn.metrics import classification_report\n",
    "\n",
    "# Inisialisasi SVC dengan kernel linear\n",
    "svc_linear = SVC(kernel='linear', C=1.0, probability=True)\n",
    "\n",
    "# Fit model\n",
    "svc_linear.fit(X_train_scaled, y_train)\n",
    "\n",
    "# Predict the labels\n",
    "y_pred_svc_test = svc_linear.predict(X_test_scaled)\n",
    "y_pred_svc_train = svc_linear.predict(X_train_scaled)\n",
    "\n",
    "# Print classification report\n",
    "print('train')\n",
    "print(\"Classification Report for train Support Vector Classification (SVC) with LINEAR Kernel:\")\n",
    "print(classification_report(y_train, y_pred_svc_train))\n",
    "print('test')\n",
    "print(\"Classification Report for test Support Vector Classification (SVC) with LINEAR Kernel:\")\n",
    "print(classification_report(y_test, y_pred_svc_test))\n"
   ]
  },
  {
   "cell_type": "code",
   "execution_count": 8,
   "metadata": {},
   "outputs": [
    {
     "name": "stdout",
     "output_type": "stream",
     "text": [
      "train\n",
      "Classification Report for train Support Vector Classification (SVC) with POLY Kernel:\n",
      "              precision    recall  f1-score   support\n",
      "\n",
      "           0       0.39      0.72      0.51      1993\n",
      "           1       0.55      0.45      0.50      1994\n",
      "           2       0.56      0.25      0.35      2020\n",
      "           3       0.79      0.72      0.75      1993\n",
      "\n",
      "    accuracy                           0.53      8000\n",
      "   macro avg       0.57      0.53      0.53      8000\n",
      "weighted avg       0.57      0.53      0.52      8000\n",
      "\n",
      "test\n",
      "Classification Report for test Support Vector Classification (SVC) with POLY Kernel:\n",
      "              precision    recall  f1-score   support\n",
      "\n",
      "           0       0.39      0.72      0.51       507\n",
      "           1       0.52      0.40      0.45       506\n",
      "           2       0.54      0.26      0.35       480\n",
      "           3       0.78      0.68      0.73       507\n",
      "\n",
      "    accuracy                           0.52      2000\n",
      "   macro avg       0.56      0.52      0.51      2000\n",
      "weighted avg       0.56      0.52      0.51      2000\n",
      "\n"
     ]
    }
   ],
   "source": [
    "from sklearn.svm import SVC\n",
    "from sklearn.metrics import classification_report\n",
    "\n",
    "# Inisialisasi SVC dengan kernel polynomial\n",
    "svc_poly = SVC(kernel='poly', C=1.0, degree=2, probability=True)\n",
    "\n",
    "# Fit model\n",
    "svc_poly.fit(X_train_scaled, y_train)\n",
    "\n",
    "# Predict the labels\n",
    "y_pred_svc_test = svc_poly.predict(X_test_scaled)\n",
    "y_pred_svc_train = svc_poly.predict(X_train_scaled)\n",
    "\n",
    "# Print classification report\n",
    "print('train')\n",
    "print(\"Classification Report for train Support Vector Classification (SVC) with POLY Kernel:\")\n",
    "print(classification_report(y_train, y_pred_svc_train))\n",
    "print('test')\n",
    "print(\"Classification Report for test Support Vector Classification (SVC) with POLY Kernel:\")\n",
    "print(classification_report(y_test, y_pred_svc_test))"
   ]
  },
  {
   "cell_type": "code",
   "execution_count": 9,
   "metadata": {},
   "outputs": [
    {
     "name": "stdout",
     "output_type": "stream",
     "text": [
      "train\n",
      "Classification Report for train Support Vector Classification (SVC) with SIGMOID Kernel:\n",
      "              precision    recall  f1-score   support\n",
      "\n",
      "           0       0.30      0.51      0.38      1993\n",
      "           1       0.65      0.18      0.28      1994\n",
      "           2       0.32      0.50      0.39      2020\n",
      "           3       0.78      0.33      0.46      1993\n",
      "\n",
      "    accuracy                           0.38      8000\n",
      "   macro avg       0.51      0.38      0.38      8000\n",
      "weighted avg       0.51      0.38      0.38      8000\n",
      "\n",
      "test\n",
      "Classification Report for test Support Vector Classification (SVC) with SIGMOID Kernel:\n",
      "              precision    recall  f1-score   support\n",
      "\n",
      "           0       0.31      0.52      0.39       507\n",
      "           1       0.67      0.19      0.29       506\n",
      "           2       0.31      0.50      0.38       480\n",
      "           3       0.78      0.35      0.48       507\n",
      "\n",
      "    accuracy                           0.39      2000\n",
      "   macro avg       0.52      0.39      0.39      2000\n",
      "weighted avg       0.52      0.39      0.39      2000\n",
      "\n"
     ]
    }
   ],
   "source": [
    "from sklearn.svm import SVC\n",
    "from sklearn.metrics import classification_report\n",
    "\n",
    "# Inisialisasi SVC dengan kernel sigmoid\n",
    "svc_sigmoid = SVC(kernel='sigmoid', C=1.0, probability=True)\n",
    "\n",
    "# Fit model\n",
    "svc_sigmoid.fit(X_train_scaled, y_train)\n",
    "\n",
    "# Predict the labels\n",
    "y_pred_svc_test = svc_sigmoid.predict(X_test_scaled)\n",
    "y_pred_svc_train = svc_sigmoid.predict(X_train_scaled)\n",
    "\n",
    "# Print classification report\n",
    "print('train')\n",
    "print(\"Classification Report for train Support Vector Classification (SVC) with SIGMOID Kernel:\")\n",
    "print(classification_report(y_train, y_pred_svc_train))\n",
    "print('test')\n",
    "print(\"Classification Report for test Support Vector Classification (SVC) with SIGMOID Kernel:\")\n",
    "print(classification_report(y_test, y_pred_svc_test))\n"
   ]
  },
  {
   "cell_type": "code",
   "execution_count": 10,
   "metadata": {},
   "outputs": [
    {
     "name": "stdout",
     "output_type": "stream",
     "text": [
      "             Feature  Importance Mean  Importance Std\n",
      "2  Tinggi Badan (cm)         0.636663        0.002747\n",
      "1       Umur (bulan)         0.516012        0.003580\n",
      "0      Jenis Kelamin         0.103313        0.002975\n",
      "3   Berat Badan (kg)         0.018850        0.001006\n"
     ]
    },
    {
     "data": {
      "image/png": "[encoded data removed]",
      "text/plain": [
       "<Figure size 640x480 with 1 Axes>"
      ]
     },
     "metadata": {},
     "output_type": "display_data"
    }
   ],
   "source": [
    "import numpy as np\n",
    "import pandas as pd\n",
    "from sklearn.inspection import permutation_importance\n",
    "from sklearn.svm import SVC\n",
    "import matplotlib.pyplot as plt\n",
    "\n",
    "# Hitung Permutation Importance\n",
    "result = permutation_importance(svc_rbf, X_train_scaled, y_train, n_repeats=10, random_state=42, n_jobs=-1)\n",
    "\n",
    "# Buat DataFrame untuk menyimpan hasil\n",
    "importance_df = pd.DataFrame({\n",
    "    'Feature': X.columns,\n",
    "    'Importance Mean': result.importances_mean,\n",
    "    'Importance Std': result.importances_std\n",
    "}).sort_values(by='Importance Mean', ascending=False)\n",
    "\n",
    "# Cetak tabel feature importance\n",
    "print(importance_df)\n",
    "\n",
    "# Visualisasi pentingnya fitur\n",
    "importance_df.plot(kind='bar', x='Feature', y='Importance Mean', yerr='Importance Std', legend=False)\n",
    "plt.title(\"Feature Importance - Permutation Importance\")\n",
    "plt.xlabel(\"Fitur\")\n",
    "plt.ylabel(\"Pentingnya Fitur\")\n",
    "plt.show()\n"
   ]
  },
  {
   "cell_type": "code",
   "execution_count": 11,
   "metadata": {},
   "outputs": [
    {
     "name": "stdout",
     "output_type": "stream",
     "text": [
      "Model tersimpan ke model.pkl\n"
     ]
    }
   ],
   "source": [
    "import joblib\n",
    "\n",
    "bundle = {\n",
    "    \"scaler\": scaler, \n",
    "    \"model\": svc_rbf\n",
    "}\n",
    "\n",
    "file_name = \"model.pkl\"\n",
    "joblib.dump(bundle, file_name, compress=3)   \n",
    "print(f\"Model tersimpan ke {file_name}\")\n"
   ]
  }
 ],
 "metadata": {
  "accelerator": "GPU",
  "colab": {
   "authorship_tag": "ABX9TyPga2gtCmUm2mZFCvuWOYrH",
   "gpuType": "T4",
   "provenance": []
  },
  "kernelspec": {
   "display_name": ".venv",
   "language": "python",
   "name": "python3"
  },
  "language_info": {
   "codemirror_mode": {
    "name": "ipython",
    "version": 3
   },
   "file_extension": ".py",
   "mimetype": "text/x-python",
   "name": "python",
   "nbconvert_exporter": "python",
   "pygments_lexer": "ipython3",
   "version": "3.13.5"
  }
 },
 "nbformat": 4,
 "nbformat_minor": 0
}
