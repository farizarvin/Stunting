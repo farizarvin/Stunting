{
 "cells": [
  {
   "cell_type": "code",
   "execution_count": null,
   "metadata": {
    "executionInfo": {
     "elapsed": 6818,
     "status": "ok",
     "timestamp": 1754500868150,
     "user": {
      "displayName": "FARIZ ARVIANTO",
      "userId": "12667506103040323466"
     },
     "user_tz": -420
    },
    "id": "wFbbqr_h7K5W"
   },
   "outputs": [],
   "source": [
    "import pandas as pd\n",
    "import numpy as np\n",
    "from sklearn.model_selection import train_test_split\n",
    "from sklearn.preprocessing import StandardScaler, LabelEncoder\n",
    "from sklearn.metrics import accuracy_score, classification_report\n",
    "import seaborn as sns\n",
    "import matplotlib.pyplot as plt\n",
    "from sklearn.svm import SVC \n",
    "from qiskit.circuit.library import ZZFeatureMap\n",
    "from qiskit_machine_learning.kernels import FidelityQuantumKernel\n",
    "from qiskit_machine_learning.state_fidelities import ComputeUncompute\n",
    "from qiskit_machine_learning.algorithms import QSVC\n",
    "from sklearn.decomposition import PCA\n"
   ]
  },
  {
   "cell_type": "code",
   "execution_count": null,
   "metadata": {
    "colab": {
     "base_uri": "https://localhost:8080/"
    },
    "executionInfo": {
     "elapsed": 502,
     "status": "ok",
     "timestamp": 1754500868643,
     "user": {
      "displayName": "FARIZ ARVIANTO",
      "userId": "12667506103040323466"
     },
     "user_tz": -420
    },
    "id": "MNbD1J6qPopl",
    "outputId": "a7c54cdb-3e86-4efb-e852-4b7bae010ef1"
   },
   "outputs": [],
   "source": [
    "df = pd.read_csv('stunting.csv')\n",
    "df.info()"
   ]
  },
  {
   "cell_type": "code",
   "execution_count": null,
   "metadata": {
    "executionInfo": {
     "elapsed": 338,
     "status": "ok",
     "timestamp": 1754500868983,
     "user": {
      "displayName": "FARIZ ARVIANTO",
      "userId": "12667506103040323466"
     },
     "user_tz": -420
    },
    "id": "XXVBgN_t-I39"
   },
   "outputs": [],
   "source": [
    "df = df.drop_duplicates()"
   ]
  },
  {
   "cell_type": "code",
   "execution_count": null,
   "metadata": {
    "colab": {
     "base_uri": "https://localhost:8080/"
    },
    "executionInfo": {
     "elapsed": 83,
     "status": "ok",
     "timestamp": 1754500868997,
     "user": {
      "displayName": "FARIZ ARVIANTO",
      "userId": "12667506103040323466"
     },
     "user_tz": -420
    },
    "id": "lJrDVOo--9Jd",
    "outputId": "c32c5bb9-749a-433c-f122-3e3796f6660d"
   },
   "outputs": [],
   "source": [
    "print(df)"
   ]
  },
  {
   "cell_type": "code",
   "execution_count": null,
   "metadata": {
    "executionInfo": {
     "elapsed": 28,
     "status": "ok",
     "timestamp": 1754500868999,
     "user": {
      "displayName": "FARIZ ARVIANTO",
      "userId": "12667506103040323466"
     },
     "user_tz": -420
    },
    "id": "SaGW9rB8-DJa"
   },
   "outputs": [],
   "source": [
    "df = df.drop('Wasting', axis=1)"
   ]
  },
  {
   "cell_type": "code",
   "execution_count": null,
   "metadata": {
    "colab": {
     "base_uri": "https://localhost:8080/"
    },
    "executionInfo": {
     "elapsed": 29,
     "status": "ok",
     "timestamp": 1754500869010,
     "user": {
      "displayName": "FARIZ ARVIANTO",
      "userId": "12667506103040323466"
     },
     "user_tz": -420
    },
    "id": "LvQyyntG_LPo",
    "outputId": "1ea3f4a7-9332-4063-cf66-c499b5ec6ab6"
   },
   "outputs": [],
   "source": [
    "df.info()"
   ]
  },
  {
   "cell_type": "code",
   "execution_count": null,
   "metadata": {
    "executionInfo": {
     "elapsed": 6,
     "status": "ok",
     "timestamp": 1754500869019,
     "user": {
      "displayName": "FARIZ ARVIANTO",
      "userId": "12667506103040323466"
     },
     "user_tz": -420
    },
    "id": "1mOYrLrm8_2a"
   },
   "outputs": [],
   "source": [
    "label_encoder = LabelEncoder()\n",
    "\n",
    "# Loop through each column and apply LabelEncoder to object columns\n",
    "for column in df.select_dtypes(include=['object']).columns:\n",
    "    df[column] = label_encoder.fit_transform(df[column])"
   ]
  },
  {
   "cell_type": "code",
   "execution_count": null,
   "metadata": {
    "colab": {
     "base_uri": "https://localhost:8080/",
     "height": 658
    },
    "executionInfo": {
     "elapsed": 942,
     "status": "ok",
     "timestamp": 1754500869964,
     "user": {
      "displayName": "FARIZ ARVIANTO",
      "userId": "12667506103040323466"
     },
     "user_tz": -420
    },
    "id": "lhB6l3HIV-4H",
    "outputId": "0cee6dd9-3572-458a-eab1-04843a4b870e"
   },
   "outputs": [],
   "source": [
    "correlation_matrix = df.corr()\n",
    "\n",
    "# Set the figure size\n",
    "plt.figure(figsize=(8, 6))\n",
    "\n",
    "# Create the heatmap\n",
    "sns.heatmap(correlation_matrix, annot=True, cmap='coolwarm', fmt='.2f', linewidths=0.5)\n",
    "\n",
    "# Add title\n",
    "plt.title('Correlation Matrix')\n",
    "\n",
    "# Show the plot\n",
    "plt.show()"
   ]
  },
  {
   "cell_type": "code",
   "execution_count": null,
   "metadata": {},
   "outputs": [],
   "source": [
    "from sklearn.utils import resample\n",
    "\n",
    "target_per_class = 100   # karena 1,000 ÷ 4 kelas\n",
    "\n",
    "frames = []\n",
    "for label, subset in df.groupby('Stunting'):\n",
    "    if len(subset) >= target_per_class:\n",
    "        frames.append(subset.sample(n=target_per_class, random_state=42))\n",
    "    else:\n",
    "        frames.append(\n",
    "            resample(subset, replace=True, n_samples=target_per_class, random_state=42)\n",
    "        )\n",
    "\n",
    "df_reduced = pd.concat(frames).sample(frac=1, random_state=42).reset_index(drop=True)\n",
    "print(df_reduced['Stunting'].value_counts()) \n"
   ]
  },
  {
   "cell_type": "code",
   "execution_count": null,
   "metadata": {},
   "outputs": [],
   "source": [
    "# df_balanced berisi data final yang sudah seimbang\n",
    "file_path = \"stunting_dataset.csv\"   # nama berkas yang diinginkan\n",
    "\n",
    "# index=False agar kolom index pandas tidak ikut disimpan\n",
    "df_reduced.to_csv(file_path, index=False)\n",
    "\n",
    "print(f\"File tersimpan di: {file_path}\")\n"
   ]
  },
  {
   "cell_type": "code",
   "execution_count": null,
   "metadata": {
    "executionInfo": {
     "elapsed": 17,
     "status": "ok",
     "timestamp": 1754500870024,
     "user": {
      "displayName": "FARIZ ARVIANTO",
      "userId": "12667506103040323466"
     },
     "user_tz": -420
    },
    "id": "Cerbq2bS_BL2"
   },
   "outputs": [],
   "source": [
    "X = df_reduced.drop('Stunting', axis=1)\n",
    "y = df_reduced['Stunting']"
   ]
  },
  {
   "cell_type": "code",
   "execution_count": null,
   "metadata": {
    "executionInfo": {
     "elapsed": 6,
     "status": "ok",
     "timestamp": 1754500870061,
     "user": {
      "displayName": "FARIZ ARVIANTO",
      "userId": "12667506103040323466"
     },
     "user_tz": -420
    },
    "id": "1rzA71d2Eh3S"
   },
   "outputs": [],
   "source": [
    "X_train, X_test, y_train, y_test = train_test_split(X, y, test_size=0.2, random_state=42)"
   ]
  },
  {
   "cell_type": "code",
   "execution_count": null,
   "metadata": {
    "executionInfo": {
     "elapsed": 7,
     "status": "ok",
     "timestamp": 1754500870081,
     "user": {
      "displayName": "FARIZ ARVIANTO",
      "userId": "12667506103040323466"
     },
     "user_tz": -420
    },
    "id": "itg13JMqXwiO"
   },
   "outputs": [],
   "source": [
    "scaler = StandardScaler()\n",
    "X_train_scaled = scaler.fit_transform(X_train)\n",
    "X_test_scaled = scaler.transform(X_test)"
   ]
  },
  {
   "cell_type": "code",
   "execution_count": null,
   "metadata": {},
   "outputs": [],
   "source": [
    "pca = PCA(n_components=0.9, svd_solver='full')   # jaga ≥95 % varians\n",
    "X_train_red = pca.fit_transform(X_train_scaled)\n",
    "X_test_red  = pca.transform(X_test_scaled)\n",
    "num_qubits  = X_train.shape[1]"
   ]
  },
  {
   "cell_type": "code",
   "execution_count": null,
   "metadata": {
    "id": "G1zc17--cScT"
   },
   "outputs": [],
   "source": [
    "# Angle Encoding berbasis FeatureMap\n",
    "from qiskit.circuit.library import ZFeatureMap, ZZFeatureMap\n",
    "\n",
    "num_qubit = X_train.shape[1]\n",
    "feature_map = ZZFeatureMap(feature_dimension=num_qubit, reps=1, entanglement=\"linear\")\n",
    "feature_map.decompose().draw(output=\"mpl\", style=\"clifford\", fold=100)"
   ]
  },
  {
   "cell_type": "code",
   "execution_count": null,
   "metadata": {},
   "outputs": [],
   "source": [
    "from qiskit.primitives import StatevectorSampler as Sampler\n",
    "from qiskit_machine_learning.state_fidelities import ComputeUncompute\n",
    "from qiskit_machine_learning.kernels import FidelityQuantumKernel\n",
    "\n",
    "sampler  = Sampler()                       # simulator presisi penuh\n",
    "fidelity = ComputeUncompute(sampler=sampler)\n",
    "quantum_kernel = FidelityQuantumKernel(\n",
    "    fidelity=fidelity,\n",
    "    feature_map=feature_map\n",
    ")"
   ]
  },
  {
   "cell_type": "code",
   "execution_count": 35,
   "metadata": {},
   "outputs": [
    {
     "ename": "KeyboardInterrupt",
     "evalue": "",
     "output_type": "error",
     "traceback": [
      "\u001b[31m---------------------------------------------------------------------------\u001b[39m",
      "\u001b[31mKeyboardInterrupt\u001b[39m                         Traceback (most recent call last)",
      "\u001b[36mCell\u001b[39m\u001b[36m \u001b[39m\u001b[32mIn[35]\u001b[39m\u001b[32m, line 4\u001b[39m\n\u001b[32m      2\u001b[39m model.fit(X_train, y_train)\n\u001b[32m      3\u001b[39m y_pred_train = model.predict(X_train)\n\u001b[32m----> \u001b[39m\u001b[32m4\u001b[39m y_pred_test = \u001b[43mmodel\u001b[49m\u001b[43m.\u001b[49m\u001b[43mpredict\u001b[49m\u001b[43m(\u001b[49m\u001b[43mX_test\u001b[49m\u001b[43m)\u001b[49m\n\u001b[32m      5\u001b[39m acc = accuracy_score(y_test, y_pred_test)\n\u001b[32m      6\u001b[39m \u001b[38;5;28mprint\u001b[39m(\u001b[33mf\u001b[39m\u001b[33m\"\u001b[39m\u001b[33mAkurasi QSVM test : \u001b[39m\u001b[38;5;132;01m{\u001b[39;00macc\u001b[38;5;132;01m:\u001b[39;00m\u001b[33m.3f\u001b[39m\u001b[38;5;132;01m}\u001b[39;00m\u001b[33m\"\u001b[39m)\n",
      "\u001b[36mFile \u001b[39m\u001b[32m~/dev/gemnastik/Stunting/.venv/lib/python3.13/site-packages/sklearn/svm/_base.py:822\u001b[39m, in \u001b[36mBaseSVC.predict\u001b[39m\u001b[34m(self, X)\u001b[39m\n\u001b[32m    820\u001b[39m     y = np.argmax(\u001b[38;5;28mself\u001b[39m.decision_function(X), axis=\u001b[32m1\u001b[39m)\n\u001b[32m    821\u001b[39m \u001b[38;5;28;01melse\u001b[39;00m:\n\u001b[32m--> \u001b[39m\u001b[32m822\u001b[39m     y = \u001b[38;5;28;43msuper\u001b[39;49m\u001b[43m(\u001b[49m\u001b[43m)\u001b[49m\u001b[43m.\u001b[49m\u001b[43mpredict\u001b[49m\u001b[43m(\u001b[49m\u001b[43mX\u001b[49m\u001b[43m)\u001b[49m\n\u001b[32m    823\u001b[39m \u001b[38;5;28;01mreturn\u001b[39;00m \u001b[38;5;28mself\u001b[39m.classes_.take(np.asarray(y, dtype=np.intp))\n",
      "\u001b[36mFile \u001b[39m\u001b[32m~/dev/gemnastik/Stunting/.venv/lib/python3.13/site-packages/sklearn/svm/_base.py:438\u001b[39m, in \u001b[36mBaseLibSVM.predict\u001b[39m\u001b[34m(self, X)\u001b[39m\n\u001b[32m    436\u001b[39m X = \u001b[38;5;28mself\u001b[39m._validate_for_predict(X)\n\u001b[32m    437\u001b[39m predict = \u001b[38;5;28mself\u001b[39m._sparse_predict \u001b[38;5;28;01mif\u001b[39;00m \u001b[38;5;28mself\u001b[39m._sparse \u001b[38;5;28;01melse\u001b[39;00m \u001b[38;5;28mself\u001b[39m._dense_predict\n\u001b[32m--> \u001b[39m\u001b[32m438\u001b[39m \u001b[38;5;28;01mreturn\u001b[39;00m \u001b[43mpredict\u001b[49m\u001b[43m(\u001b[49m\u001b[43mX\u001b[49m\u001b[43m)\u001b[49m\n",
      "\u001b[36mFile \u001b[39m\u001b[32m~/dev/gemnastik/Stunting/.venv/lib/python3.13/site-packages/sklearn/svm/_base.py:441\u001b[39m, in \u001b[36mBaseLibSVM._dense_predict\u001b[39m\u001b[34m(self, X)\u001b[39m\n\u001b[32m    440\u001b[39m \u001b[38;5;28;01mdef\u001b[39;00m\u001b[38;5;250m \u001b[39m\u001b[34m_dense_predict\u001b[39m(\u001b[38;5;28mself\u001b[39m, X):\n\u001b[32m--> \u001b[39m\u001b[32m441\u001b[39m     X = \u001b[38;5;28;43mself\u001b[39;49m\u001b[43m.\u001b[49m\u001b[43m_compute_kernel\u001b[49m\u001b[43m(\u001b[49m\u001b[43mX\u001b[49m\u001b[43m)\u001b[49m\n\u001b[32m    442\u001b[39m     \u001b[38;5;28;01mif\u001b[39;00m X.ndim == \u001b[32m1\u001b[39m:\n\u001b[32m    443\u001b[39m         X = check_array(X, order=\u001b[33m\"\u001b[39m\u001b[33mC\u001b[39m\u001b[33m\"\u001b[39m, accept_large_sparse=\u001b[38;5;28;01mFalse\u001b[39;00m)\n",
      "\u001b[36mFile \u001b[39m\u001b[32m~/dev/gemnastik/Stunting/.venv/lib/python3.13/site-packages/sklearn/svm/_base.py:515\u001b[39m, in \u001b[36mBaseLibSVM._compute_kernel\u001b[39m\u001b[34m(self, X)\u001b[39m\n\u001b[32m    511\u001b[39m \u001b[38;5;250m\u001b[39m\u001b[33;03m\"\"\"Return the data transformed by a callable kernel\"\"\"\u001b[39;00m\n\u001b[32m    512\u001b[39m \u001b[38;5;28;01mif\u001b[39;00m \u001b[38;5;28mcallable\u001b[39m(\u001b[38;5;28mself\u001b[39m.kernel):\n\u001b[32m    513\u001b[39m     \u001b[38;5;66;03m# in the case of precomputed kernel given as a function, we\u001b[39;00m\n\u001b[32m    514\u001b[39m     \u001b[38;5;66;03m# have to compute explicitly the kernel matrix\u001b[39;00m\n\u001b[32m--> \u001b[39m\u001b[32m515\u001b[39m     kernel = \u001b[38;5;28;43mself\u001b[39;49m\u001b[43m.\u001b[49m\u001b[43mkernel\u001b[49m\u001b[43m(\u001b[49m\u001b[43mX\u001b[49m\u001b[43m,\u001b[49m\u001b[43m \u001b[49m\u001b[38;5;28;43mself\u001b[39;49m\u001b[43m.\u001b[49m\u001b[43m__Xfit\u001b[49m\u001b[43m)\u001b[49m\n\u001b[32m    516\u001b[39m     \u001b[38;5;28;01mif\u001b[39;00m sp.issparse(kernel):\n\u001b[32m    517\u001b[39m         kernel = kernel.toarray()\n",
      "\u001b[36mFile \u001b[39m\u001b[32m~/dev/gemnastik/Stunting/.venv/lib/python3.13/site-packages/qiskit_machine_learning/kernels/fidelity_quantum_kernel.py:119\u001b[39m, in \u001b[36mFidelityQuantumKernel.evaluate\u001b[39m\u001b[34m(self, x_vec, y_vec)\u001b[39m\n\u001b[32m    117\u001b[39m \u001b[38;5;28;01melse\u001b[39;00m:\n\u001b[32m    118\u001b[39m     left_parameters, right_parameters, indices = \u001b[38;5;28mself\u001b[39m._get_parameterization(x_vec, y_vec)\n\u001b[32m--> \u001b[39m\u001b[32m119\u001b[39m     kernel_matrix = \u001b[38;5;28;43mself\u001b[39;49m\u001b[43m.\u001b[49m\u001b[43m_get_kernel_matrix\u001b[49m\u001b[43m(\u001b[49m\n\u001b[32m    120\u001b[39m \u001b[43m        \u001b[49m\u001b[43mkernel_shape\u001b[49m\u001b[43m,\u001b[49m\u001b[43m \u001b[49m\u001b[43mleft_parameters\u001b[49m\u001b[43m,\u001b[49m\u001b[43m \u001b[49m\u001b[43mright_parameters\u001b[49m\u001b[43m,\u001b[49m\u001b[43m \u001b[49m\u001b[43mindices\u001b[49m\n\u001b[32m    121\u001b[39m \u001b[43m    \u001b[49m\u001b[43m)\u001b[49m\n\u001b[32m    123\u001b[39m \u001b[38;5;28;01mif\u001b[39;00m is_symmetric \u001b[38;5;129;01mand\u001b[39;00m \u001b[38;5;28mself\u001b[39m._enforce_psd:\n\u001b[32m    124\u001b[39m     kernel_matrix = \u001b[38;5;28mself\u001b[39m._make_psd(kernel_matrix)\n",
      "\u001b[36mFile \u001b[39m\u001b[32m~/dev/gemnastik/Stunting/.venv/lib/python3.13/site-packages/qiskit_machine_learning/kernels/fidelity_quantum_kernel.py:188\u001b[39m, in \u001b[36mFidelityQuantumKernel._get_kernel_matrix\u001b[39m\u001b[34m(self, kernel_shape, left_parameters, right_parameters, indices)\u001b[39m\n\u001b[32m    178\u001b[39m \u001b[38;5;28;01mdef\u001b[39;00m\u001b[38;5;250m \u001b[39m\u001b[34m_get_kernel_matrix\u001b[39m(\n\u001b[32m    179\u001b[39m     \u001b[38;5;28mself\u001b[39m,\n\u001b[32m    180\u001b[39m     kernel_shape: \u001b[38;5;28mtuple\u001b[39m[\u001b[38;5;28mint\u001b[39m, \u001b[38;5;28mint\u001b[39m],\n\u001b[32m   (...)\u001b[39m\u001b[32m    183\u001b[39m     indices: KernelIndices,\n\u001b[32m    184\u001b[39m ) -> np.ndarray:\n\u001b[32m    185\u001b[39m \u001b[38;5;250m    \u001b[39m\u001b[33;03m\"\"\"\u001b[39;00m\n\u001b[32m    186\u001b[39m \u001b[33;03m    Given a parameterization, this computes the symmetric kernel matrix.\u001b[39;00m\n\u001b[32m    187\u001b[39m \u001b[33;03m    \"\"\"\u001b[39;00m\n\u001b[32m--> \u001b[39m\u001b[32m188\u001b[39m     kernel_entries = \u001b[38;5;28;43mself\u001b[39;49m\u001b[43m.\u001b[49m\u001b[43m_get_kernel_entries\u001b[49m\u001b[43m(\u001b[49m\u001b[43mleft_parameters\u001b[49m\u001b[43m,\u001b[49m\u001b[43m \u001b[49m\u001b[43mright_parameters\u001b[49m\u001b[43m)\u001b[49m\n\u001b[32m    190\u001b[39m     \u001b[38;5;66;03m# fill in trivial entries and then update with fidelity values\u001b[39;00m\n\u001b[32m    191\u001b[39m     kernel_matrix = np.ones(kernel_shape)\n",
      "\u001b[36mFile \u001b[39m\u001b[32m~/dev/gemnastik/Stunting/.venv/lib/python3.13/site-packages/qiskit_machine_learning/kernels/fidelity_quantum_kernel.py:235\u001b[39m, in \u001b[36mFidelityQuantumKernel._get_kernel_entries\u001b[39m\u001b[34m(self, left_parameters, right_parameters)\u001b[39m\n\u001b[32m    228\u001b[39m \u001b[38;5;28;01mif\u001b[39;00m \u001b[38;5;28mself\u001b[39m.max_circuits_per_job \u001b[38;5;129;01mis\u001b[39;00m \u001b[38;5;28;01mNone\u001b[39;00m:\n\u001b[32m    229\u001b[39m     job = \u001b[38;5;28mself\u001b[39m._fidelity.run(\n\u001b[32m    230\u001b[39m         [\u001b[38;5;28mself\u001b[39m._feature_map] * num_circuits,\n\u001b[32m    231\u001b[39m         [\u001b[38;5;28mself\u001b[39m._feature_map] * num_circuits,\n\u001b[32m    232\u001b[39m         left_parameters,  \u001b[38;5;66;03m# type: ignore[arg-type]\u001b[39;00m\n\u001b[32m    233\u001b[39m         right_parameters,  \u001b[38;5;66;03m# type: ignore[arg-type]\u001b[39;00m\n\u001b[32m    234\u001b[39m     )\n\u001b[32m--> \u001b[39m\u001b[32m235\u001b[39m     kernel_entries = \u001b[43mjob\u001b[49m\u001b[43m.\u001b[49m\u001b[43mresult\u001b[49m\u001b[43m(\u001b[49m\u001b[43m)\u001b[49m.fidelities\n\u001b[32m    236\u001b[39m \u001b[38;5;28;01melse\u001b[39;00m:\n\u001b[32m    237\u001b[39m     \u001b[38;5;66;03m# Determine the number of chunks needed\u001b[39;00m\n\u001b[32m    238\u001b[39m     num_chunks = (\n\u001b[32m    239\u001b[39m         num_circuits + \u001b[38;5;28mself\u001b[39m.max_circuits_per_job - \u001b[32m1\u001b[39m\n\u001b[32m    240\u001b[39m     ) // \u001b[38;5;28mself\u001b[39m.max_circuits_per_job\n",
      "\u001b[36mFile \u001b[39m\u001b[32m~/dev/gemnastik/Stunting/.venv/lib/python3.13/site-packages/qiskit/primitives/primitive_job.py:51\u001b[39m, in \u001b[36mPrimitiveJob.result\u001b[39m\u001b[34m(self)\u001b[39m\n\u001b[32m     49\u001b[39m \u001b[38;5;28;01mdef\u001b[39;00m\u001b[38;5;250m \u001b[39m\u001b[34mresult\u001b[39m(\u001b[38;5;28mself\u001b[39m) -> ResultT:\n\u001b[32m     50\u001b[39m     \u001b[38;5;28mself\u001b[39m._check_submitted()\n\u001b[32m---> \u001b[39m\u001b[32m51\u001b[39m     \u001b[38;5;28;01mreturn\u001b[39;00m \u001b[38;5;28;43mself\u001b[39;49m\u001b[43m.\u001b[49m\u001b[43m_future\u001b[49m\u001b[43m.\u001b[49m\u001b[43mresult\u001b[49m\u001b[43m(\u001b[49m\u001b[43m)\u001b[49m\n",
      "\u001b[36mFile \u001b[39m\u001b[32m/opt/homebrew/Cellar/python@3.13/3.13.5/Frameworks/Python.framework/Versions/3.13/lib/python3.13/concurrent/futures/_base.py:451\u001b[39m, in \u001b[36mFuture.result\u001b[39m\u001b[34m(self, timeout)\u001b[39m\n\u001b[32m    448\u001b[39m \u001b[38;5;28;01melif\u001b[39;00m \u001b[38;5;28mself\u001b[39m._state == FINISHED:\n\u001b[32m    449\u001b[39m     \u001b[38;5;28;01mreturn\u001b[39;00m \u001b[38;5;28mself\u001b[39m.__get_result()\n\u001b[32m--> \u001b[39m\u001b[32m451\u001b[39m \u001b[38;5;28;43mself\u001b[39;49m\u001b[43m.\u001b[49m\u001b[43m_condition\u001b[49m\u001b[43m.\u001b[49m\u001b[43mwait\u001b[49m\u001b[43m(\u001b[49m\u001b[43mtimeout\u001b[49m\u001b[43m)\u001b[49m\n\u001b[32m    453\u001b[39m \u001b[38;5;28;01mif\u001b[39;00m \u001b[38;5;28mself\u001b[39m._state \u001b[38;5;129;01min\u001b[39;00m [CANCELLED, CANCELLED_AND_NOTIFIED]:\n\u001b[32m    454\u001b[39m     \u001b[38;5;28;01mraise\u001b[39;00m CancelledError()\n",
      "\u001b[36mFile \u001b[39m\u001b[32m/opt/homebrew/Cellar/python@3.13/3.13.5/Frameworks/Python.framework/Versions/3.13/lib/python3.13/threading.py:359\u001b[39m, in \u001b[36mCondition.wait\u001b[39m\u001b[34m(self, timeout)\u001b[39m\n\u001b[32m    357\u001b[39m \u001b[38;5;28;01mtry\u001b[39;00m:    \u001b[38;5;66;03m# restore state no matter what (e.g., KeyboardInterrupt)\u001b[39;00m\n\u001b[32m    358\u001b[39m     \u001b[38;5;28;01mif\u001b[39;00m timeout \u001b[38;5;129;01mis\u001b[39;00m \u001b[38;5;28;01mNone\u001b[39;00m:\n\u001b[32m--> \u001b[39m\u001b[32m359\u001b[39m         \u001b[43mwaiter\u001b[49m\u001b[43m.\u001b[49m\u001b[43macquire\u001b[49m\u001b[43m(\u001b[49m\u001b[43m)\u001b[49m\n\u001b[32m    360\u001b[39m         gotit = \u001b[38;5;28;01mTrue\u001b[39;00m\n\u001b[32m    361\u001b[39m     \u001b[38;5;28;01melse\u001b[39;00m:\n",
      "\u001b[31mKeyboardInterrupt\u001b[39m: "
     ]
    }
   ],
   "source": [
    "model = SVC(kernel=quantum_kernel.evaluate)\n",
    "model.fit(X_train, y_train)\n",
    "y_pred_train = model.predict(X_train)\n",
    "y_pred_test = model.predict(X_test)\n",
    "acc = accuracy_score(y_test, y_pred_test)\n",
    "print(f\"Akurasi QSVM test : {acc:.3f}\")\n"
   ]
  },
  {
   "cell_type": "code",
   "execution_count": null,
   "metadata": {},
   "outputs": [],
   "source": [
    "print('akurasi train')\n",
    "print(\"\\n=== Classification Report ===\")\n",
    "print(classification_report(y_train, y_pred_train))\n",
    "print('akurasi test')\n",
    "print(\"\\n=== Classification Report ===\")\n",
    "print(classification_report(y_test, y_pred_test))"
   ]
  },
  {
   "cell_type": "code",
   "execution_count": null,
   "metadata": {},
   "outputs": [],
   "source": []
  }
 ],
 "metadata": {
  "accelerator": "GPU",
  "colab": {
   "authorship_tag": "ABX9TyPga2gtCmUm2mZFCvuWOYrH",
   "gpuType": "T4",
   "provenance": []
  },
  "kernelspec": {
   "display_name": ".venv",
   "language": "python",
   "name": "python3"
  },
  "language_info": {
   "codemirror_mode": {
    "name": "ipython",
    "version": 3
   },
   "file_extension": ".py",
   "mimetype": "text/x-python",
   "name": "python",
   "nbconvert_exporter": "python",
   "pygments_lexer": "ipython3",
   "version": "3.13.5"
  }
 },
 "nbformat": 4,
 "nbformat_minor": 0
}
